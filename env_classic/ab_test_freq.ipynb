{
 "cells": [
  {
   "cell_type": "code",
   "execution_count": null,
   "metadata": {},
   "outputs": [],
   "source": [
    "import matplotlib.pyplot as plt\n",
    "import numpy as np\n",
    "import scipy.stats as scs"
   ]
  },
  {
   "cell_type": "code",
   "execution_count": null,
   "metadata": {},
   "outputs": [],
   "source": [
    "x = np.linspace(-3, 3, 100)"
   ]
  },
  {
   "cell_type": "code",
   "execution_count": null,
   "metadata": {
    "scrolled": true
   },
   "outputs": [],
   "source": [
    "loi1 = scs.norm(0, 7)\n",
    "loi2 = scs.norm(10, 7)\n",
    "\n",
    "min_ = -20\n",
    "max_ = 30\n",
    "\n",
    "x = np.linspace(min_, max_, 1000)\n",
    "y1 = loi1.pdf(x)\n",
    "y2 = loi2.pdf(x)\n",
    "\n",
    "plt.xlim(min_,max_)\n",
    "plt.ylim(0,0.1)\n",
    "plt.plot(x, y1)\n",
    "plt.plot(x, y2)\n",
    "plt.ylabel(\"densité\")\n",
    "plt.xlabel(\"valeur de l'écart\")"
   ]
  },
  {
   "cell_type": "code",
   "execution_count": null,
   "metadata": {},
   "outputs": [],
   "source": [
    "def plot_ab_test_classic(mean_h0=0, mean_h1=10, std_h0=4, std_h1=4, \n",
    "                         min_x=-20, max_x = 30, max_y=0.1,\n",
    "                         plot_risk=True):\n",
    "\n",
    "    loi1 = scs.norm(mean_h0, std_h0)\n",
    "    loi2 = scs.norm(mean_h1, std_h1)\n",
    "\n",
    "    x = np.linspace(min_x, max_x, 1000)\n",
    "    y1 = loi1.pdf(x)\n",
    "    y2 = loi2.pdf(x)\n",
    "\n",
    "    threshold = loi1.ppf(0.975)\n",
    "\n",
    "    plt.figure(figsize=(15,5))\n",
    "\n",
    "    plt.xlim(min_,max_)\n",
    "    plt.ylim(0, max_y)\n",
    "\n",
    "    plt.plot(x, y1, color=\"#004280\")\n",
    "    plt.plot(x, y2, color=\"#ff3300\")\n",
    "\n",
    "\n",
    "    plt.legend([\"Hyp : pas d'écart entre A et B\",\"Hyp : écart de 10 entre A et B\"])\n",
    "\n",
    "    plt.ylabel(\"densité\", fontsize=20)\n",
    "    plt.xlabel(\"valeur de l'écart\", fontsize=20)\n",
    "\n",
    "    if plot_risk:\n",
    "        plt.plot((threshold,threshold), (0,1), linestyle='dashed', color=\"grey\")\n",
    "\n",
    "        seg1 = np.linspace(min_, threshold, 1000)\n",
    "        plt.fill_between(seg1,loi2.pdf(seg1), facecolor=\"#ffd6cc\")\n",
    "\n",
    "        seg2 = np.linspace(threshold, max_, 1000)\n",
    "        plt.fill_between(seg2,loi1.pdf(seg2), facecolor = \"#cce6ff\")"
   ]
  },
  {
   "cell_type": "code",
   "execution_count": null,
   "metadata": {},
   "outputs": [],
   "source": [
    "plot_ab_test_classic(mean_h0=0, mean_h1=10, std_h0=4, std_h1=4, \n",
    "                         min_x=-20, max_x = 30, max_y=0.1,\n",
    "                         plot_risk=False)"
   ]
  },
  {
   "cell_type": "code",
   "execution_count": null,
   "metadata": {},
   "outputs": [],
   "source": [
    "plot_ab_test_classic(mean_h0=0, mean_h1=10, std_h0=4, std_h1=4, \n",
    "                         min_x=-20, max_x = 30, max_y=0.1,\n",
    "                         plot_risk=True)"
   ]
  },
  {
   "cell_type": "code",
   "execution_count": null,
   "metadata": {},
   "outputs": [],
   "source": [
    "for i in range(10, 20):\n",
    "    plot_ab_test_classic(mean_h0=0, mean_h1=i, std_h0=4, std_h1=4, \n",
    "                         min_x=-20, max_x = 30, max_y=0.1,\n",
    "                         plot_risk=True)\n",
    "    plt.savefig('ab_test_increase_mde_{}.png'.format(i))"
   ]
  },
  {
   "cell_type": "code",
   "execution_count": null,
   "metadata": {
    "scrolled": true
   },
   "outputs": [],
   "source": [
    "for i in range(1, 10):\n",
    "    plot_ab_test_classic(mean_h0=0, mean_h1=10, std_h0=4 -i/5, std_h1=4 -i/5, \n",
    "                         min_x=-20, max_x = 30, max_y=0.2,\n",
    "                         plot_risk=True)\n",
    "    plt.savefig('ab_test_increase_size_{}.png'.format(i))"
   ]
  }
 ],
 "metadata": {
  "kernelspec": {
   "display_name": "Python 3",
   "language": "python",
   "name": "python3"
  },
  "language_info": {
   "codemirror_mode": {
    "name": "ipython",
    "version": 3
   },
   "file_extension": ".py",
   "mimetype": "text/x-python",
   "name": "python",
   "nbconvert_exporter": "python",
   "pygments_lexer": "ipython3",
   "version": "3.7.1"
  }
 },
 "nbformat": 4,
 "nbformat_minor": 2
}
