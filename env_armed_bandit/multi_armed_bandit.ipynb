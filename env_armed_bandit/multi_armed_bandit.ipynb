{
 "cells": [
  {
   "cell_type": "code",
   "execution_count": null,
   "metadata": {},
   "outputs": [],
   "source": [
    "import numpy as np\n",
    "import operator\n",
    "import random\n",
    "import matplotlib.pyplot as plt\n",
    "from matplotlib.pyplot import savefig"
   ]
  },
  {
   "cell_type": "code",
   "execution_count": null,
   "metadata": {},
   "outputs": [],
   "source": [
    "params = {\"A\": 0.5,\n",
    "          \"B\": 0.6,\n",
    "          \"C\": 0.2}\n",
    "\n",
    "nb_steps = 10000\n",
    "\n",
    "sep1 = \"\\n_____________________________\"\n",
    "sep2 = \"_____________________________\\n\""
   ]
  },
  {
   "cell_type": "code",
   "execution_count": null,
   "metadata": {},
   "outputs": [],
   "source": [
    "def play_multi_armed_bandit(chosen_arm, params = params):\n",
    "    for ii in params.keys():\n",
    "        if chosen_arm == ii:\n",
    "            value = np.random.binomial(1, params[ii], size=1)[0]\n",
    "    return value"
   ]
  },
  {
   "cell_type": "code",
   "execution_count": null,
   "metadata": {},
   "outputs": [],
   "source": [
    "def get_UCB(choices, results):\n",
    "    \n",
    "    #assert (len(choices) == len(results)), \"the choices list and results list must have the same length\"\n",
    "    \n",
    "    t = len(choices)\n",
    "    choices_set = set(choices)\n",
    "    UCB = {}\n",
    "\n",
    "    for arm in choices_set:\n",
    "        arm_results = [results[x] for x in range(t) if choices[x] == arm]\n",
    "        UCB[arm] = np.mean(arm_results) + np.sqrt(2*np.log(t) / len(arm_results))\n",
    "\n",
    "    return UCB"
   ]
  },
  {
   "cell_type": "code",
   "execution_count": null,
   "metadata": {},
   "outputs": [],
   "source": [
    "def solve_problem(nb_step, algo, arms = {\"A\", \"B\", \"C\"}):\n",
    "    results = []\n",
    "    choices = []\n",
    "    #results = {\"A\": [play_multi_armed_bandit(\"A\")],\n",
    "    #           \"B\": [play_multi_armed_bandit(\"B\")],\n",
    "    #           \"C\": [play_multi_armed_bandit(\"C\")]}\n",
    "    \n",
    "    for choice in arms:\n",
    "        choices.append(choice)\n",
    "        results.append(play_multi_armed_bandit(choice))\n",
    "        \n",
    "    t = len(results)\n",
    "    start = len(results) - 1\n",
    "\n",
    "    for ii in range(start, nb_steps):\n",
    "        \n",
    "        if algo==\"UCB\":\n",
    "            UCB = get_UCB(choices, results)\n",
    "            chosen_arm = max(UCB.items(), key=operator.itemgetter(1))[0]\n",
    "        elif algo == \"random\":\n",
    "            chosen_arm = random.choice([\"A\",\"B\",\"C\"])\n",
    "        \n",
    "        choices.append(chosen_arm)\n",
    "        results.append(play_multi_armed_bandit(chosen_arm))\n",
    "        \n",
    "        # results[chosen_arm] += [play_multi_armed_bandit(chosen_arm)]\n",
    "        \n",
    "        t += 1\n",
    "\n",
    "    return choices, results"
   ]
  },
  {
   "cell_type": "code",
   "execution_count": null,
   "metadata": {},
   "outputs": [],
   "source": [
    "def get_means(choices, results):\n",
    "    \n",
    "    assert (len(choices) == len(results)), \"the choices list and results list must have the same length\"\n",
    "    \n",
    "    t = len(choices)\n",
    "    choices_set = set(choices)\n",
    "    means = {}\n",
    "\n",
    "    for arm in choices_set:\n",
    "        arm_results = [results[x] for x in range(t) if choices[x] == arm]\n",
    "        means[arm] = np.mean(arm_results)\n",
    "\n",
    "    return means"
   ]
  },
  {
   "cell_type": "code",
   "execution_count": null,
   "metadata": {},
   "outputs": [],
   "source": [
    "def plot_means_and_ucb(choices, results):\n",
    "    ucb = get_UCB(choices, results)\n",
    "    action_max = max(ucb.items(), key=operator.itemgetter(1))[0]\n",
    "    action_other = list(set(ucb.keys()) - set(action_max))\n",
    "    \n",
    "    means = get_means(choices, results)\n",
    "    means_other = [means[x] for x in action_other]\n",
    "    \n",
    "    # plot\n",
    "    plt.ylim(0, 2.2)\n",
    "    plt.scatter(ucb.keys(), ucb.values(), marker=\"_\", alpha=0.5, s=500, color=\"r\")\n",
    "    plt.scatter(action_other, means_other, marker=\"o\", alpha=0.5, s=500, color=\"b\")\n",
    "    plt.scatter(action_max, means[action_max], marker=\"o\", alpha=0.5, s=500, color=\"r\")"
   ]
  },
  {
   "cell_type": "code",
   "execution_count": null,
   "metadata": {},
   "outputs": [],
   "source": [
    "choices_ucb, results_ucb = solve_problem(nb_steps, \"UCB\", params.keys())\n",
    "choices_random, results_random = solve_problem(nb_steps, \"random\", params.keys())"
   ]
  },
  {
   "cell_type": "code",
   "execution_count": null,
   "metadata": {
    "scrolled": true
   },
   "outputs": [],
   "source": [
    "for i in range(1, 120):\n",
    "    threshold = 50\n",
    "    if i <= threshold:\n",
    "        t = i\n",
    "    else:\n",
    "        t = threshold + (i - threshold)*20\n",
    "    \n",
    "    plot_means_and_ucb(choices_ucb[:t], results_ucb[:t])\n",
    "    plt.title(\"step : {}\".format(t))\n",
    "    savefig('gif_ucb/ucb_step_%04d.png' % t)\n",
    "    plt.show()"
   ]
  },
  {
   "cell_type": "code",
   "execution_count": null,
   "metadata": {},
   "outputs": [],
   "source": [
    "def evaluate_results(results, params):\n",
    "    best_option_perf = max(params.values())\n",
    "    experience_length = len(results)\n",
    "    \n",
    "    score = np.sum(results)\n",
    "    target_score = best_option_perf * experience_length\n",
    "    \n",
    "    regret = target_score - score\n",
    "    \n",
    "    return score, target_score, regret"
   ]
  },
  {
   "cell_type": "code",
   "execution_count": null,
   "metadata": {},
   "outputs": [],
   "source": [
    "def compare_random_ucb(results_ucb, choices_ucb, results_random, choices_random, params):\n",
    "\n",
    "    score_ucb, target_score, regret_ucb = evaluate_results(results_ucb, params)\n",
    "    score_random, target_score, regret_random = evaluate_results(results_random, params)\n",
    "\n",
    "    print(\"--- Params ---\")\n",
    "    for key in params.keys():\n",
    "        print(\"Arm {}, conversion rate : {}\".format(key, params[key]))\n",
    "    print(\"\\n\")\n",
    "    \n",
    "    print(\"--- Strategy UCB ---\")\n",
    "    for key in params.keys():\n",
    "        choices_key = [choices_ucb[x] == key for x in range(len(choices_ucb))]\n",
    "        print(\"Arm {} : played {} times\".format(key, np.sum(choices_key)))\n",
    "    print(\"\\n\")\n",
    "        \n",
    "    print(\"--- Strategy random ---\")\n",
    "    for key in params.keys():\n",
    "        choices_key = [choices_random[x] == key for x in range(len(choices_ucb))]\n",
    "        print(\"Arm {} : played {} times\".format(key, np.sum(choices_key)))\n",
    "    print(\"\\n\")\n",
    "    \n",
    "    print(\"--- Scores ---\")\n",
    "    print(\"score target : {}\".format(round(target_score)))\n",
    "    print(\"score ucb : {}\".format(round(score_ucb)))\n",
    "    print(\"score random : {}\\n\".format(score_random))\n",
    "\n",
    "    print(\"\\n--- Regret ---\")\n",
    "    print(\"regret ucb : {}\".format(round(regret_ucb)))\n",
    "    print(\"regret random : {}\\n\".format(round(regret_random)))"
   ]
  },
  {
   "cell_type": "code",
   "execution_count": null,
   "metadata": {
    "scrolled": false
   },
   "outputs": [],
   "source": [
    "t = 10000\n",
    "compare_random_ucb(results_ucb[ : t],\n",
    "                   choices_ucb[ : t],\n",
    "                   results_random[ : t],\n",
    "                   choices_random[ : t],\n",
    "                   params)"
   ]
  },
  {
   "cell_type": "code",
   "execution_count": null,
   "metadata": {},
   "outputs": [],
   "source": [
    "0.6*10000 - (0.5*3312 + 0.6*3376 + 0.2*3312)"
   ]
  },
  {
   "cell_type": "code",
   "execution_count": null,
   "metadata": {},
   "outputs": [],
   "source": [
    "best_option_perf = max(params.values())\n",
    "experience_length = len(results)\n",
    "    \n",
    "score = np.sum(results)\n",
    "target_score = best_option_perf * experience_length\n",
    "    \n",
    "regret = target_score - score"
   ]
  },
  {
   "cell_type": "code",
   "execution_count": null,
   "metadata": {
    "scrolled": true
   },
   "outputs": [],
   "source": [
    "best_option_perf = max(params.values())\n",
    "best_option_perf"
   ]
  },
  {
   "cell_type": "code",
   "execution_count": null,
   "metadata": {},
   "outputs": [],
   "source": [
    "0.2*3312"
   ]
  },
  {
   "cell_type": "code",
   "execution_count": null,
   "metadata": {},
   "outputs": [],
   "source": [
    "result_A = [results_random[i] for i in range(len(results_random)) if choices_random[i]==\"A\"]\n",
    "np.mean(result_A)*len(result_A)"
   ]
  },
  {
   "cell_type": "code",
   "execution_count": null,
   "metadata": {},
   "outputs": [],
   "source": [
    "result_B = [results_random[i] for i in range(len(results_random)) if choices_random[i]==\"B\"]\n",
    "np.mean(result_B)*len(result_B)"
   ]
  },
  {
   "cell_type": "code",
   "execution_count": null,
   "metadata": {},
   "outputs": [],
   "source": [
    "result_C = [results_random[i] for i in range(len(results_random)) if choices_random[i]==\"C\"]\n",
    "np.mean(result_C)*len(result_C)"
   ]
  },
  {
   "cell_type": "code",
   "execution_count": null,
   "metadata": {},
   "outputs": [],
   "source": [
    "len(result_A)"
   ]
  },
  {
   "cell_type": "code",
   "execution_count": null,
   "metadata": {},
   "outputs": [],
   "source": [
    "len(result_B)"
   ]
  },
  {
   "cell_type": "code",
   "execution_count": null,
   "metadata": {},
   "outputs": [],
   "source": [
    "len(result_C)"
   ]
  },
  {
   "cell_type": "code",
   "execution_count": null,
   "metadata": {},
   "outputs": [],
   "source": [
    "np.mean(result_A)"
   ]
  },
  {
   "cell_type": "code",
   "execution_count": null,
   "metadata": {},
   "outputs": [],
   "source": [
    "np.mean(result_B)"
   ]
  },
  {
   "cell_type": "code",
   "execution_count": null,
   "metadata": {},
   "outputs": [],
   "source": [
    "np.mean(result_C)"
   ]
  },
  {
   "cell_type": "code",
   "execution_count": null,
   "metadata": {},
   "outputs": [],
   "source": [
    "6000 - np.mean(result_A)*len(result_A) - np.mean(result_B)*len(result_B) - np.mean(result_C)*len(result_C)"
   ]
  },
  {
   "cell_type": "code",
   "execution_count": null,
   "metadata": {},
   "outputs": [],
   "source": []
  }
 ],
 "metadata": {
  "kernelspec": {
   "display_name": "Python 3",
   "language": "python",
   "name": "python3"
  },
  "language_info": {
   "codemirror_mode": {
    "name": "ipython",
    "version": 3
   },
   "file_extension": ".py",
   "mimetype": "text/x-python",
   "name": "python",
   "nbconvert_exporter": "python",
   "pygments_lexer": "ipython3",
   "version": "3.7.1"
  }
 },
 "nbformat": 4,
 "nbformat_minor": 2
}
